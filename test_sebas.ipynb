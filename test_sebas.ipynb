{
 "cells": [
  {
   "cell_type": "code",
   "execution_count": 1,
   "metadata": {},
   "outputs": [
    {
     "name": "stdout",
     "output_type": "stream",
     "text": [
      "Loaded 'resources\\PaintShop - November 2024.xlsx'\n"
     ]
    }
   ],
   "source": [
    "from sterling import *\n",
    "import random as rng\n",
    "from paintshop import PaintShop, Source\n",
    "\n",
    "PS = PaintShop(Source.NOVEMBER)"
   ]
  },
  {
   "cell_type": "code",
   "execution_count": 2,
   "metadata": {},
   "outputs": [
    {
     "name": "stdout",
     "output_type": "stream",
     "text": [
      "1.1353e+84\n"
     ]
    }
   ],
   "source": [
    "print(f'{PS.solution_space_size:.4e}')"
   ]
  },
  {
   "cell_type": "code",
   "execution_count": 3,
   "metadata": {},
   "outputs": [
    {
     "data": {
      "text/plain": [
       "206323339880914304669231787"
      ]
     },
     "execution_count": 3,
     "metadata": {},
     "output_type": "execute_result"
    }
   ],
   "source": [
    "PS.solution_space_partitions"
   ]
  },
  {
   "cell_type": "code",
   "execution_count": 4,
   "metadata": {},
   "outputs": [
    {
     "name": "stdout",
     "output_type": "stream",
     "text": [
      "    |  0   1   2   3   4   5   6   7   8   9  10  11  12  13  14  15  16  | \u001b[33m13676.41\u001b[0m ✔\n",
      "M1: | \u001b[32m 0\u001b[0m  \u001b[31m11\u001b[0m  \u001b[32m13\u001b[0m  \u001b[32m22\u001b[0m  \u001b[32m23\u001b[0m  \u001b[31m24\u001b[0m  \u001b[31m32\u001b[0m  \u001b[31m33\u001b[0m  \u001b[31m34\u001b[0m  \u001b[31m38\u001b[0m  \u001b[31m44\u001b[0m                          | 2270.00 (17%)\n",
      "M2: | \u001b[32m 1\u001b[0m  \u001b[32m 4\u001b[0m  \u001b[32m 9\u001b[0m  \u001b[32m19\u001b[0m  \u001b[32m21\u001b[0m  \u001b[32m27\u001b[0m  \u001b[31m35\u001b[0m                                          | 15.00   (0%)\n",
      "M3: | \u001b[32m 2\u001b[0m  \u001b[32m 6\u001b[0m  \u001b[32m12\u001b[0m  \u001b[32m14\u001b[0m  \u001b[32m15\u001b[0m  \u001b[32m16\u001b[0m  \u001b[31m17\u001b[0m  \u001b[31m20\u001b[0m  \u001b[31m26\u001b[0m  \u001b[31m29\u001b[0m  \u001b[31m39\u001b[0m                          | 1740.59 (13%)\n",
      "M4: | \u001b[32m 3\u001b[0m  \u001b[32m 5\u001b[0m  \u001b[32m 7\u001b[0m  \u001b[31m 8\u001b[0m  \u001b[31m10\u001b[0m  \u001b[31m18\u001b[0m  \u001b[31m25\u001b[0m  \u001b[31m28\u001b[0m  \u001b[31m30\u001b[0m  \u001b[31m31\u001b[0m  \u001b[31m36\u001b[0m  \u001b[31m37\u001b[0m  \u001b[31m40\u001b[0m  \u001b[31m41\u001b[0m  \u001b[31m42\u001b[0m  \u001b[31m43\u001b[0m  \u001b[31m45\u001b[0m  | 9650.82 (71%)\n"
     ]
    },
    {
     "ename": "TypeError",
     "evalue": "ImprovementHeuristics() takes no arguments",
     "output_type": "error",
     "traceback": [
      "\u001b[1;31m---------------------------------------------------------------------------\u001b[0m",
      "\u001b[1;31mTypeError\u001b[0m                                 Traceback (most recent call last)",
      "Cell \u001b[1;32mIn[4], line 10\u001b[0m\n\u001b[0;32m      7\u001b[0m s \u001b[38;5;241m=\u001b[39m CH\u001b[38;5;241m.\u001b[39mrandom\u001b[38;5;241m.\u001b[39mget_schedule()\n\u001b[0;32m      8\u001b[0m \u001b[38;5;28mprint\u001b[39m(s)\n\u001b[1;32m---> 10\u001b[0m IH \u001b[38;5;241m=\u001b[39m \u001b[43mImprovementHeuristics\u001b[49m\u001b[43m(\u001b[49m\u001b[43mPS\u001b[49m\u001b[43m)\u001b[49m\n\u001b[0;32m     11\u001b[0m IH\u001b[38;5;241m.\u001b[39msimple(MoveSelectionStrategies\u001b[38;5;241m.\u001b[39mrandom)\u001b[38;5;241m.\u001b[39mrun(s)\n",
      "\u001b[1;31mTypeError\u001b[0m: ImprovementHeuristics() takes no arguments"
     ]
    }
   ],
   "source": [
    "from heuristics_constructive import ConstructiveHeuristics\n",
    "from heuristics_improvement import ImprovementHeuristics\n",
    "from moveSelectionStrategy import MoveSelectionStrategies\n",
    "\n",
    "CH = ConstructiveHeuristics(PS)\n",
    "\n",
    "s = CH.random.get_schedule()\n",
    "print(s)\n",
    "\n",
    "IH = ImprovementHeuristics\n",
    "IH.simple(MoveSelectionStrategies.random).run(s)"
   ]
  }
 ],
 "metadata": {
  "kernelspec": {
   "display_name": "base",
   "language": "python",
   "name": "python3"
  },
  "language_info": {
   "codemirror_mode": {
    "name": "ipython",
    "version": 3
   },
   "file_extension": ".py",
   "mimetype": "text/x-python",
   "name": "python",
   "nbconvert_exporter": "python",
   "pygments_lexer": "ipython3",
   "version": "3.11.4"
  }
 },
 "nbformat": 4,
 "nbformat_minor": 2
}
