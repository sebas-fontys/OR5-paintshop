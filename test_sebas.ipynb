{
 "cells": [
  {
   "cell_type": "code",
   "execution_count": 2,
   "metadata": {},
   "outputs": [],
   "source": [
    "from sterling import *\n",
    "import random as rng\n",
    "from paintshop import PaintShop\n",
    "\n",
    "PS = PaintShop()"
   ]
  },
  {
   "cell_type": "code",
   "execution_count": 3,
   "metadata": {},
   "outputs": [
    {
     "name": "stdout",
     "output_type": "stream",
     "text": [
      "9.1022e+45\n"
     ]
    }
   ],
   "source": [
    "print(f'{PS.solution_space_size:.4e}')"
   ]
  },
  {
   "cell_type": "code",
   "execution_count": 3,
   "metadata": {},
   "outputs": [
    {
     "data": {
      "text/plain": [
       "34314651811530"
      ]
     },
     "execution_count": 3,
     "metadata": {},
     "output_type": "execute_result"
    }
   ],
   "source": [
    "import math\n",
    "count_part(30, 3)"
   ]
  },
  {
   "cell_type": "code",
   "execution_count": 4,
   "metadata": {},
   "outputs": [
    {
     "name": "stdout",
     "output_type": "stream",
     "text": [
      "    |  0   1   2   3   4   5   6   7   8   9  10  | \u001b[33m2743.03\u001b[0m ✔\n",
      "M1: | \u001b[32m 0\u001b[0m  \u001b[31m 2\u001b[0m  \u001b[31m 6\u001b[0m  \u001b[31m 7\u001b[0m  \u001b[31m 8\u001b[0m  \u001b[32m15\u001b[0m  \u001b[32m23\u001b[0m  \u001b[31m24\u001b[0m  \u001b[31m25\u001b[0m          | 559.50  (20%)\n",
      "M2: | \u001b[32m 1\u001b[0m  \u001b[31m 4\u001b[0m  \u001b[32m 9\u001b[0m  \u001b[31m10\u001b[0m  \u001b[32m16\u001b[0m  \u001b[32m17\u001b[0m  \u001b[32m19\u001b[0m  \u001b[31m20\u001b[0m  \u001b[31m21\u001b[0m  \u001b[31m22\u001b[0m  \u001b[31m29\u001b[0m  | 721.20  (26%)\n",
      "M3: | \u001b[32m 3\u001b[0m  \u001b[31m 5\u001b[0m  \u001b[32m11\u001b[0m  \u001b[32m12\u001b[0m  \u001b[31m13\u001b[0m  \u001b[31m14\u001b[0m  \u001b[31m18\u001b[0m  \u001b[31m26\u001b[0m  \u001b[31m27\u001b[0m  \u001b[31m28\u001b[0m      | 1462.33 (53%)\n"
     ]
    }
   ],
   "source": [
    "from heuristics_constructive import ConstructiveHeuristics\n",
    "\n",
    "print(ConstructiveHeuristics.random.get_schedule())"
   ]
  }
 ],
 "metadata": {
  "kernelspec": {
   "display_name": "base",
   "language": "python",
   "name": "python3"
  },
  "language_info": {
   "codemirror_mode": {
    "name": "ipython",
    "version": 3
   },
   "file_extension": ".py",
   "mimetype": "text/x-python",
   "name": "python",
   "nbconvert_exporter": "python",
   "pygments_lexer": "ipython3",
   "version": "3.11.5"
  }
 },
 "nbformat": 4,
 "nbformat_minor": 2
}
