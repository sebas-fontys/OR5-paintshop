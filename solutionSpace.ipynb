{
 "cells": [
  {
   "cell_type": "code",
   "execution_count": 16,
   "metadata": {},
   "outputs": [],
   "source": [
    "import math\n",
    "from paintshop import PaintShop"
   ]
  },
  {
   "cell_type": "code",
   "execution_count": 20,
   "metadata": {},
   "outputs": [],
   "source": [
    "orders = 30\n",
    "machines = 3"
   ]
  },
  {
   "cell_type": "code",
   "execution_count": 17,
   "metadata": {},
   "outputs": [
    {
     "name": "stdout",
     "output_type": "stream",
     "text": [
      "265252859812191058636308480000000\n"
     ]
    }
   ],
   "source": [
    "permutations = math.factorial(orders)\n",
    "print(permutations)"
   ]
  },
  {
   "cell_type": "code",
   "execution_count": 21,
   "metadata": {},
   "outputs": [
    {
     "name": "stdout",
     "output_type": "stream",
     "text": [
      "34315188682442\n"
     ]
    }
   ],
   "source": [
    "computed = {}\n",
    "\n",
    "# Modified from https://rosettacode.org/wiki/Stirling_numbers_of_the_second_kind#Python\n",
    "def sterling2(n, k):\n",
    "    \n",
    "    # Cache key\n",
    "\tkey = f\"{n},{k}\"\n",
    "\n",
    "    # Check for cached\n",
    "\tif key in computed.keys():\n",
    "\t\treturn computed[key]\n",
    "\n",
    "    # Shortcut cases\n",
    "\tif n == k == 0:\n",
    "\t\treturn 1\n",
    "\tif (n > 0 and k == 0) or (n == 0 and k > 0):\n",
    "\t\treturn 0\n",
    "\tif n == k:\n",
    "\t\treturn 1\n",
    "\tif k > n:\n",
    "\t\treturn 0\n",
    "\n",
    "    # Compute\n",
    "\tresult = k * sterling2(n - 1, k) + sterling2(n - 1, k - 1)\n",
    "\tcomputed[key] = result\n",
    "\treturn result\n",
    "\n",
    "# Assuming the guy answering is correct:\n",
    "# https://math.stackexchange.com/questions/2842591/on-stirling-numbers-of-second-kind\n",
    "# Allowing m - 1 empty sets:\n",
    "# Think about it: it does make sense. If one machine is empty, its the same as partitioning into two sets.\n",
    "partitions = sum([sterling2(orders, m+1) for m in range(machines)])\n",
    "print(partitions)"
   ]
  },
  {
   "cell_type": "code",
   "execution_count": 22,
   "metadata": {},
   "outputs": [
    {
     "name": "stdout",
     "output_type": "stream",
     "text": [
      "9102201933012673024975239555073871708160000000\n"
     ]
    }
   ],
   "source": [
    "print(partitions * permutations)"
   ]
  }
 ],
 "metadata": {
  "kernelspec": {
   "display_name": "base",
   "language": "python",
   "name": "python3"
  },
  "language_info": {
   "codemirror_mode": {
    "name": "ipython",
    "version": 3
   },
   "file_extension": ".py",
   "mimetype": "text/x-python",
   "name": "python",
   "nbconvert_exporter": "python",
   "pygments_lexer": "ipython3",
   "version": "3.11.5"
  }
 },
 "nbformat": 4,
 "nbformat_minor": 2
}
