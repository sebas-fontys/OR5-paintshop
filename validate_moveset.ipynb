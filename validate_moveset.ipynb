{
 "cells": [
  {
   "cell_type": "code",
   "execution_count": 5,
   "metadata": {},
   "outputs": [
    {
     "name": "stdout",
     "output_type": "stream",
     "text": [
      "    |  0   1   2   3   4   5   6   7   8   9  10  | \u001b[33m4429.33\u001b[0m ✔\n",
      "M1: | \u001b[32m 0\u001b[0m  \u001b[31m 2\u001b[0m  \u001b[31m 4\u001b[0m  \u001b[31m 6\u001b[0m  \u001b[31m 8\u001b[0m  \u001b[31m 9\u001b[0m  \u001b[31m11\u001b[0m  \u001b[31m13\u001b[0m  \u001b[31m16\u001b[0m  \u001b[31m26\u001b[0m  \u001b[31m29\u001b[0m  | 3725.00 (84%)\n",
      "M2: | \u001b[32m 1\u001b[0m  \u001b[32m 7\u001b[0m  \u001b[32m15\u001b[0m  \u001b[32m17\u001b[0m  \u001b[32m19\u001b[0m  \u001b[32m21\u001b[0m  \u001b[32m22\u001b[0m  \u001b[32m23\u001b[0m  \u001b[31m25\u001b[0m  \u001b[32m28\u001b[0m      | 4.00    (0%)\n",
      "M3: | \u001b[32m 3\u001b[0m  \u001b[31m 5\u001b[0m  \u001b[31m10\u001b[0m  \u001b[31m12\u001b[0m  \u001b[31m14\u001b[0m  \u001b[31m18\u001b[0m  \u001b[31m20\u001b[0m  \u001b[31m24\u001b[0m  \u001b[31m27\u001b[0m          | 700.33  (16%)\n",
      "\n",
      "Amount of moves: 900\n",
      "\n",
      "Moves that do nothing: 0\n",
      "\n",
      "Unique schedules after moves: 900\n"
     ]
    }
   ],
   "source": [
    "# Generate and display a random schedule\n",
    "from heuristics_constructive import ConstructiveHeuristics\n",
    "from move import Move, get_moves\n",
    "\n",
    "\n",
    "s = ConstructiveHeuristics.random.get_schedule()\n",
    "print(s)\n",
    "\n",
    "# Generate all possible moves and print the amount\n",
    "moves: list[Move] = get_moves(s)\n",
    "print(f'\\nAmount of moves: {len(moves)}')\n",
    "\n",
    "# Generate the moved schedules for all the moves\n",
    "moved_schedules = [move.get_moved(s) for move in moves]\n",
    "print(f\"\\nMoves that do nothing: {sum([(s == moved_s) for moved_s in moved_schedules])}\")\n",
    "\n",
    "# Display the amount of unique moved schedules\n",
    "print(f'\\nUnique schedules after moves: {len(set(moved_schedules))}')\n",
    "\n",
    "# Create a dictionary of moves by the hash-code of the moved schedule that they produce\n",
    "by_hash = {}\n",
    "for move in moves:\n",
    "    \n",
    "    # Get moved schedule\n",
    "    moved = move.get_moved(s)\n",
    "    \n",
    "    # Get hash-code\n",
    "    hash_code = hash(moved)\n",
    "    \n",
    "    # Add move if hash-code exists in dict, else: add it.\n",
    "    if hash_code in by_hash.keys():\n",
    "        by_hash[hash_code][\"moves\"] += [move]\n",
    "    else:\n",
    "        by_hash[hash_code] = {\n",
    "            \"moves\": [move],\n",
    "            \"schedule\": moved\n",
    "        }\n",
    "        \n",
    "# Display all the non-unique moved schedules along with their moves\n",
    "for hash_code, data in [(hash_code, data) for hash_code, data in by_hash.items() if len(data[\"moves\"]) > 1]:\n",
    "    print()\n",
    "    print(data[\"schedule\"])\n",
    "    for move in data[\"moves\"]:\n",
    "        print(move)"
   ]
  }
 ],
 "metadata": {
  "kernelspec": {
   "display_name": "base",
   "language": "python",
   "name": "python3"
  },
  "language_info": {
   "codemirror_mode": {
    "name": "ipython",
    "version": 3
   },
   "file_extension": ".py",
   "mimetype": "text/x-python",
   "name": "python",
   "nbconvert_exporter": "python",
   "pygments_lexer": "ipython3",
   "version": "3.11.5"
  }
 },
 "nbformat": 4,
 "nbformat_minor": 2
}
